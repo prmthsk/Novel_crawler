{
 "cells": [
  {
   "cell_type": "markdown",
   "metadata": {},
   "source": [
    "下載狂人小說上的小說，更改novel_name和novel_url分別作為小說檔名和第一章的url即可。"
   ]
  },
  {
   "cell_type": "code",
   "execution_count": null,
   "metadata": {},
   "outputs": [],
   "source": [
    "# coding=utf-8\n",
    "import os\n",
    "from selenium import webdriver\n",
    "from selenium.webdriver.chrome.options import Options\n",
    "from bs4 import BeautifulSoup\n",
    "import time\n",
    "\n",
    "novel_name = \"Insert novel name here.txt\"\n",
    "novel_url = \"Insert url of the first chapter of the novel\"\n",
    "\n",
    "try:\n",
    "    f = open(novel_name, 'a')\n",
    "except:\n",
    "    os.remove(novel_name)\n",
    "\n",
    "f = open(novel_name, 'a', encoding=\"utf-8\")\n",
    "\n",
    "# don't open browswer\n",
    "options = webdriver.ChromeOptions()\n",
    "options.add_argument('--headless')\n",
    "driver = webdriver.Chrome(options=options,executable_path='D:/Anaconda/chromedriver_win32/chromedriver')\n",
    "\n",
    "# access html\n",
    "driver.get(novel_url)\n",
    "\n",
    "\n",
    "while True:\n",
    "    \n",
    "    #print(print(html_soup.find('h2').get_text()))\n",
    "    html = driver.page_source # html of the webpage\n",
    "\n",
    "    # parse html by BeautifulSoup\n",
    "    html_soup = BeautifulSoup(html, 'html.parser')\n",
    "    \n",
    "    # title\n",
    "    print(html_soup.find('div', {'class':'name'}).get_text())\n",
    "    f.write(html_soup.find('div', {'class':'name'}).get_text())\n",
    "    \n",
    "    # content\n",
    "    for item in html_soup.find_all('div', {'class':'content'}):\n",
    "        #print(item.get_text())\n",
    "        f.write(item.get_text())\n",
    "    \n",
    "    f.write('\\n');\n",
    "    try:\n",
    "        driver.find_element_by_link_text(u\"下一章\").click()      \n",
    "    except:\n",
    "        break;\n",
    "f.close()\n",
    "driver.close()\n",
    "    \n"
   ]
  },
  {
   "cell_type": "markdown",
   "metadata": {},
   "source": [
    "更新小說"
   ]
  },
  {
   "cell_type": "code",
   "execution_count": null,
   "metadata": {
    "scrolled": false
   },
   "outputs": [],
   "source": []
  }
 ],
 "metadata": {
  "kernelspec": {
   "display_name": "Python 3",
   "language": "python",
   "name": "python3"
  },
  "language_info": {
   "codemirror_mode": {
    "name": "ipython",
    "version": 3
   },
   "file_extension": ".py",
   "mimetype": "text/x-python",
   "name": "python",
   "nbconvert_exporter": "python",
   "pygments_lexer": "ipython3",
   "version": "3.8.5"
  }
 },
 "nbformat": 4,
 "nbformat_minor": 4
}
